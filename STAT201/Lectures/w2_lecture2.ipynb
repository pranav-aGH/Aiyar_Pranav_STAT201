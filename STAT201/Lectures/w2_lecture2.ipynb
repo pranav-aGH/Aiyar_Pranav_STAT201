{
 "cells": [
  {
   "cell_type": "code",
   "execution_count": 5,
   "id": "bbc43266",
   "metadata": {},
   "outputs": [],
   "source": [
    "hello = input(\"What is your name?\")\n",
    "age = input(\"Put yo age in\")"
   ]
  },
  {
   "cell_type": "code",
   "execution_count": 6,
   "id": "43c9651c",
   "metadata": {},
   "outputs": [
    {
     "name": "stdout",
     "output_type": "stream",
     "text": [
      "My name is  my age is 6\n"
     ]
    }
   ],
   "source": [
    "print(\"My name is \" + hello + \" my age is \" + age)"
   ]
  },
  {
   "cell_type": "code",
   "execution_count": 7,
   "id": "d013595a",
   "metadata": {},
   "outputs": [],
   "source": [
    "x= 10\n",
    "if(x == 5):\n",
    "    print(\"x is 5\")"
   ]
  },
  {
   "cell_type": "code",
   "execution_count": 9,
   "id": "1f940bf4",
   "metadata": {},
   "outputs": [
    {
     "data": {
      "text/plain": [
       "'Apple'"
      ]
     },
     "execution_count": 9,
     "metadata": {},
     "output_type": "execute_result"
    }
   ],
   "source": [
    "s = \"apple\"\n",
    "s.replace(\"a\", \"A\")"
   ]
  },
  {
   "cell_type": "code",
   "execution_count": null,
   "id": "5493d48b",
   "metadata": {},
   "outputs": [],
   "source": []
  }
 ],
 "metadata": {
  "kernelspec": {
   "display_name": ".venv",
   "language": "python",
   "name": "python3"
  },
  "language_info": {
   "codemirror_mode": {
    "name": "ipython",
    "version": 3
   },
   "file_extension": ".py",
   "mimetype": "text/x-python",
   "name": "python",
   "nbconvert_exporter": "python",
   "pygments_lexer": "ipython3",
   "version": "3.11.9"
  }
 },
 "nbformat": 4,
 "nbformat_minor": 5
}
