{
 "cells": [
  {
   "cell_type": "markdown",
   "id": "9272cad6",
   "metadata": {},
   "source": [
    "Quiz 7 Questions 11-13\n"
   ]
  },
  {
   "cell_type": "code",
   "execution_count": null,
   "id": "dfa315a9",
   "metadata": {},
   "outputs": [
    {
     "data": {
      "text/plain": [
       "3"
      ]
     },
     "execution_count": 12,
     "metadata": {},
     "output_type": "execute_result"
    },
    {
     "ename": "",
     "evalue": "",
     "output_type": "error",
     "traceback": [
      "\u001b[1;31mThe Kernel crashed while executing code in the current cell or a previous cell. \n",
      "\u001b[1;31mPlease review the code in the cell(s) to identify a possible cause of the failure. \n",
      "\u001b[1;31mClick <a href='https://aka.ms/vscodeJupyterKernelCrash'>here</a> for more info. \n",
      "\u001b[1;31mView Jupyter <a href='command:jupyter.viewOutput'>log</a> for further details."
     ]
    }
   ],
   "source": [
    " #11\n",
    "def three_letter(string):\n",
    "    count = 0    \n",
    "    list = []\n",
    "    for i in range(len(string) -2):\n",
    "        substring = string[i:i+3]\n",
    "        if substring not in list:\n",
    "            count += 1\n",
    "            list.append(substring)\n",
    "    return count\n",
    "\n",
    "string = \"abcabcabc\"\n",
    "three_letter(string)"
   ]
  },
  {
   "cell_type": "code",
   "execution_count": 11,
   "id": "1976185f",
   "metadata": {},
   "outputs": [
    {
     "data": {
      "text/plain": [
       "4"
      ]
     },
     "execution_count": 11,
     "metadata": {},
     "output_type": "execute_result"
    }
   ],
   "source": [
    "def count_palindromes(string):\n",
    "    length = len(string)\n",
    "    palindrome_len = 0\n",
    "    count = 0\n",
    "    result = []\n",
    "    for i in range(length):\n",
    "        left = i\n",
    "        right = i\n",
    "        while left >= 0 and right < length and string[left] == string[right]:\n",
    "            \n",
    "            if len(string[left:right+1]) >= 3:\n",
    "                count += 1\n",
    "            left -= 1\n",
    "            right += 1\n",
    "\n",
    "    return count\n",
    "\n",
    "count_palindromes(\"racecaranna\")"
   ]
  },
  {
   "cell_type": "code",
   "execution_count": null,
   "id": "af4722f9",
   "metadata": {},
   "outputs": [
    {
     "data": {
      "text/plain": [
       "[61, 67, 71, 73, 79]"
      ]
     },
     "execution_count": 7,
     "metadata": {},
     "output_type": "execute_result"
    }
   ],
   "source": [
    "#13\n",
    "def is_prime(n):\n",
    "    if n <= 1:\n",
    "        return False\n",
    "    for i in range(2, int(n**0.5) + 1):\n",
    "        if n % i == 0:\n",
    "            return False\n",
    "    return True\n",
    "\n",
    "\n",
    "def primes(low, high):\n",
    "    primes = []\n",
    "    for i in range(low, high):\n",
    "        if (is_prime(i)):\n",
    "            primes.append(i)\n",
    "    return(primes)\n",
    "\n",
    "primes(60, 80)"
   ]
  },
  {
   "cell_type": "code",
   "execution_count": null,
   "id": "80492a5b",
   "metadata": {},
   "outputs": [],
   "source": []
  },
  {
   "cell_type": "markdown",
   "id": "b878265f",
   "metadata": {},
   "source": []
  }
 ],
 "metadata": {
  "kernelspec": {
   "display_name": ".venv",
   "language": "python",
   "name": "python3"
  },
  "language_info": {
   "codemirror_mode": {
    "name": "ipython",
    "version": 3
   },
   "file_extension": ".py",
   "mimetype": "text/x-python",
   "name": "python",
   "nbconvert_exporter": "python",
   "pygments_lexer": "ipython3",
   "version": "3.11.9"
  }
 },
 "nbformat": 4,
 "nbformat_minor": 5
}
