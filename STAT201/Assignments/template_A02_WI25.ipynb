{
 "cells": [
  {
   "cell_type": "raw",
   "metadata": {
    "vscode": {
     "languageId": "raw"
    }
   },
   "source": [
    "---\n",
    "title: \"Assignment 2\"\n",
    "subtitle: \"STAT 201\"\n",
    "author: \"Pranav Aiyar\"\n",
    "format:\n",
    "  html:\n",
    "    toc: true\n",
    "    embed-resources: true\n",
    "---"
   ]
  },
  {
   "cell_type": "markdown",
   "metadata": {},
   "source": [
    "### Instructions"
   ]
  },
  {
   "cell_type": "markdown",
   "metadata": {},
   "source": [
    "1. **Write your name** on the assignment.\n",
    "\n",
    "2. Write your code in the *Code* cells of the **template provided** to write solutions for the assignment. **Do not open a new notebook**, and work from scratch. Ensure that the solution is written neatly enough to understand and grade.\n",
    "\n",
    "3. Use [Quarto](https://quarto.org/docs/output-formats/html-basics.html) to print the *.ipynb* file as HTML. You will need to open the command prompt, navigate to the directory containing the file, and use the command: `quarto render filename.ipynb --to html`. Submit the HTML file.\n",
    "\n",
    "4. You may talk to a friend, discuss the questions and potential directions for solving them. However, you need to write your own solutions and code separately, and not as a group activity. Do not use AI to solve the problems.\n",
    "\n",
    "5. There are 2 points for cleanliness and organization. The breakdown is as follows:\n",
    "    - Must be an HTML file rendered using Quarto. \n",
    "    - There aren’t excessively long outputs of extraneous information (e.g. no printouts of unnecessary results without good reason, there aren’t long printouts of which iteration a loop is on, there aren’t long sections of commented-out code, etc.). There is no piece of unnecessary / redundant code, and no unnecessary / redundant text\n",
    "    - The code follows the [python style guide](https://peps.python.org/pep-0008/) for naming variables, spaces, indentation, etc.\n",
    "    - The code should be commented and clearly written with intuitive variable names. For example, use variable names such as number_input, factor, hours, instead of a,b,xyz, etc."
   ]
  },
  {
   "cell_type": "markdown",
   "metadata": {},
   "source": [
    "### Question 1 (3 points)"
   ]
  },
  {
   "cell_type": "markdown",
   "metadata": {},
   "source": [
    "a) Write a program that counts down from 5 and then prints the message \"Go\"."
   ]
  },
  {
   "cell_type": "code",
   "execution_count": 2,
   "metadata": {},
   "outputs": [
    {
     "name": "stdout",
     "output_type": "stream",
     "text": [
      "5\n",
      "4\n",
      "3\n",
      "2\n",
      "1\n",
      "Go\n"
     ]
    }
   ],
   "source": [
    "for i in range(5,0,-1):\n",
    "    print(i)\n",
    "print(\"Go\")"
   ]
  },
  {
   "cell_type": "markdown",
   "metadata": {},
   "source": [
    "b) Write a program that asks the user for an integer, then counts down from that integer and then prints the message \"Go\". Use a try-except to ensure the user entered an integer. If it is not an integer, return the message \"You must enter an integer\". Show the output of the program if the user inputs `3`. "
   ]
  },
  {
   "cell_type": "code",
   "execution_count": 5,
   "metadata": {},
   "outputs": [
    {
     "name": "stdout",
     "output_type": "stream",
     "text": [
      "3\n",
      "2\n",
      "1\n",
      "Go\n"
     ]
    }
   ],
   "source": [
    "while True:\n",
    "    try:\n",
    "        number = int(input(\"Enter a integer\"))\n",
    "        break \n",
    "    except ValueError:\n",
    "        print(\"You must enter an integer.\")\n",
    "\n",
    "for i in range(number,0,-1):\n",
    "    print(i)\n",
    "print(\"Go\")"
   ]
  },
  {
   "cell_type": "markdown",
   "metadata": {},
   "source": [
    "c) Copy and modify part b to allow the user to keep entering input until they correctly enter an integer (ie: don't end after the except). Show the output of the program if the user first inputs `8.9` and then inputs `7`. "
   ]
  },
  {
   "cell_type": "code",
   "execution_count": 6,
   "metadata": {},
   "outputs": [
    {
     "name": "stdout",
     "output_type": "stream",
     "text": [
      "You must enter an integer.\n",
      "7\n",
      "6\n",
      "5\n",
      "4\n",
      "3\n",
      "2\n",
      "1\n",
      "Go\n"
     ]
    }
   ],
   "source": [
    "while True:\n",
    "    try:\n",
    "        number = int(input(\"Enter a integer\"))\n",
    "        break \n",
    "    except ValueError:\n",
    "        print(\"You must enter an integer.\")\n",
    "\n",
    "for i in range(number,0,-1):\n",
    "    print(i)\n",
    "print(\"Go\")"
   ]
  },
  {
   "cell_type": "markdown",
   "metadata": {},
   "source": [
    "### Question 2 (2 points)"
   ]
  },
  {
   "cell_type": "markdown",
   "metadata": {},
   "source": [
    "Print a star formation as follows:\n",
    "\n",
    "                                             * \n",
    "                                             * * \n",
    "                                             * * * \n",
    "                                             * * * * \n",
    "                                             \n",
    "Ask the user to input the height of the formation first. For example, 4 should return the formation above. Show the output of the program if the user inputs `5`. "
   ]
  },
  {
   "cell_type": "code",
   "execution_count": 12,
   "metadata": {},
   "outputs": [
    {
     "name": "stdout",
     "output_type": "stream",
     "text": [
      "\t\t\t\t\t\t * \n",
      "\t\t\t\t\t\t *  * \n",
      "\t\t\t\t\t\t *  *  * \n",
      "\t\t\t\t\t\t *  *  *  * \n",
      "\t\t\t\t\t\t *  *  *  *  * \n"
     ]
    }
   ],
   "source": [
    "height = int(input(\"Enter the height of the star formation: \"))\n",
    "\n",
    "\n",
    "for i in range(height):\n",
    "    print('\\t' * 6 + ' * ' * (i+1))\n"
   ]
  },
  {
   "cell_type": "markdown",
   "metadata": {},
   "source": [
    "### Question 3 (6 points)"
   ]
  },
  {
   "cell_type": "markdown",
   "metadata": {},
   "source": [
    "a) Write a program where you play 3 \"Rock, Paper, Scissors\" games against the computer. Simulate a random choice for the computer each game and ask the user to enter either rock, paper, or scissors. Print the number of times the user won out of 3 games. Show the output of the program after playing the game. \n",
    "\n",
    "Recall: rock beats scissors; scissors beats paper; paper beats rock.\n",
    "\n",
    "Example:\n",
    "\n",
    "                                    \"You won <num_win> out of 3 games.\""
   ]
  },
  {
   "cell_type": "code",
   "execution_count": 25,
   "metadata": {},
   "outputs": [],
   "source": [
    "# import the random function and name the alias rm\n",
    "import random as rm\n",
    "# code to generate a random choice of rock, paper, scissors for the computer\n",
    "comp_choice = rm.choice(['rock', 'paper', 'scissors'])"
   ]
  },
  {
   "cell_type": "markdown",
   "metadata": {},
   "source": [
    "b) Write a program where you play \"Rock, Paper, Scissors\" games against the computer until you have won 3 games. Simulate a random choice for the computer each game and ask the user to enter either rock, paper, or scissors. Print the number of games it took to win 3 times. Show the output of the program after playing the game.\n",
    "\n",
    "Example:\n",
    "\n",
    "                                    \"You won 3 out of <num_games> games.\""
   ]
  },
  {
   "cell_type": "code",
   "execution_count": 28,
   "metadata": {},
   "outputs": [
    {
     "name": "stdout",
     "output_type": "stream",
     "text": [
      "The user inputted: rock and the computer inputted: rock.\n",
      "The user inputted: rock and the computer inputted: scissors.\n",
      "The user inputted: rock and the computer inputted: scissors.\n",
      "The user inputted: rock and the computer inputted: scissors.\n",
      "You won 3 out of 4 games.\n"
     ]
    }
   ],
   "source": [
    "wins = 0\n",
    "games = 0\n",
    "\n",
    "while wins < 3:\n",
    "    user = (input(\"Do you want to play Rock, Paper, or Scissors?\")).strip().lower()\n",
    "    comp_choice = rm.choice(['rock', 'paper', 'scissors'])\n",
    "    if((user != \"rock\") and (user != \"paper\") and (user != \"scissors\")):\n",
    "        user = (input(\"Please input Rock, Paper or Scissors.\")).strip().lower()\n",
    "        \n",
    "    print(f\"The user inputted: {user} and the computer inputted: {comp_choice}.\")\n",
    "    if(user == comp_choice):\n",
    "        games += 1\n",
    "    else:\n",
    "        if (user == 'rock' and comp_choice == 'scissors') or (user == 'scissors' and comp_choice == 'paper') or (user == 'paper' and comp_choice == 'rock'):\n",
    "            wins += 1\n",
    "            games += 1\n",
    "        else:\n",
    "            games += 1\n",
    "print(f\"You won 3 out of {games} games.\")\n",
    "\n"
   ]
  },
  {
   "cell_type": "markdown",
   "metadata": {},
   "source": [
    "### Question 4 (6 points)"
   ]
  },
  {
   "cell_type": "markdown",
   "metadata": {},
   "source": [
    "a) Write a program (loop) that prints all the factors of a positive integer input by the user. A factor is any positive integer that divides the number and leaves no remainder. Show the output of the program if the user inputs `24`. \n",
    "\n",
    "Example: The factors of 8 are 1, 2, 4, 8."
   ]
  },
  {
   "cell_type": "code",
   "execution_count": 29,
   "metadata": {},
   "outputs": [
    {
     "name": "stdout",
     "output_type": "stream",
     "text": [
      "[1, 2, 3, 4, 6, 8, 12]\n"
     ]
    }
   ],
   "source": [
    "factors = []\n",
    "while True:\n",
    "    try:\n",
    "        num = int(input(\"Enter a integer\"))\n",
    "        break \n",
    "    except ValueError:\n",
    "        print(\"You must enter an integer.\")\n",
    "\n",
    "\n",
    "for i in range(1, num-1):\n",
    "    if(num % i == 0):\n",
    "        factors.append(i)\n",
    "print(factors)"
   ]
  },
  {
   "cell_type": "markdown",
   "metadata": {},
   "source": [
    "b) Write a **function** called `number_of_factors` that takes an integer and returns how many factors the number has. Run your function with `24` to check if it works."
   ]
  },
  {
   "cell_type": "code",
   "execution_count": 34,
   "metadata": {},
   "outputs": [
    {
     "name": "stdout",
     "output_type": "stream",
     "text": [
      "7\n"
     ]
    }
   ],
   "source": [
    "def number_of_factors(num):\n",
    "    factors = 0\n",
    "    for i in range(1, num-1):\n",
    "        if(num % i == 0):\n",
    "            factors += 1\n",
    "    return factors\n",
    "\n",
    "while True:\n",
    "    try:\n",
    "        num = int(input(\"Enter a integer\"))\n",
    "        print(number_of_factors(num))\n",
    "        break\n",
    "    except ValueError:\n",
    "        print(\"You must enter an integer.\")"
   ]
  },
  {
   "cell_type": "markdown",
   "metadata": {},
   "source": [
    "### Question 5 (6 points)"
   ]
  },
  {
   "cell_type": "markdown",
   "metadata": {},
   "source": [
    "a) Write a program (loop) that identifies whether a positive integer input by the user is prime or not. A prime number is a number whose only divisors are 1 and itself. Show the output when the program is used to check if `89` is prime or not."
   ]
  },
  {
   "cell_type": "code",
   "execution_count": 35,
   "metadata": {},
   "outputs": [
    {
     "name": "stdout",
     "output_type": "stream",
     "text": [
      "True\n"
     ]
    }
   ],
   "source": [
    "while True:\n",
    "    try:\n",
    "        num = int(input(\"Enter a integer\"))\n",
    "        break \n",
    "    except ValueError:\n",
    "        print(\"You must enter an integer.\")\n",
    "\n",
    "\n",
    "for i in range(2, num-1):\n",
    "    if(num % i == 0):\n",
    "        print(False)\n",
    "        break\n",
    "print(True)"
   ]
  },
  {
   "cell_type": "markdown",
   "metadata": {},
   "source": [
    "b) Write a **function** that checks if a positive integer is prime or not. It should take one integer input and return a boolean. Run your function with `197` to check if it works."
   ]
  },
  {
   "cell_type": "code",
   "execution_count": 36,
   "metadata": {},
   "outputs": [
    {
     "name": "stdout",
     "output_type": "stream",
     "text": [
      "True\n"
     ]
    }
   ],
   "source": [
    "def prime_checker(num):\n",
    "\n",
    "    for i in range(2, num-1):\n",
    "        if(num % i == 0):\n",
    "            return False\n",
    "    return True\n",
    "\n",
    "\n",
    "while True:\n",
    "    try:\n",
    "        num = int(input(\"Enter a integer\"))\n",
    "        print(prime_checker(num))\n",
    "        break \n",
    "    except ValueError:\n",
    "        print(\"You must enter an integer.\")\n",
    "\n",
    "\n"
   ]
  },
  {
   "cell_type": "markdown",
   "metadata": {},
   "source": [
    "### Question 6 (4 points)"
   ]
  },
  {
   "cell_type": "markdown",
   "metadata": {},
   "source": [
    "Write a function that calculates the area of a rectangle. The function should have an input for length (in inches) and width (in inches). And have 2 ouputs: the area in terms of square inches and the area in terms of square feet. There are 12 inches in 1 foot. Run your function with a length of 102 inches and width of 60 inches to check if it works."
   ]
  },
  {
   "cell_type": "code",
   "execution_count": 38,
   "metadata": {},
   "outputs": [
    {
     "name": "stdout",
     "output_type": "stream",
     "text": [
      "The area in terms of inches is 6120.0 and the area in feet is 42.5.\n"
     ]
    }
   ],
   "source": [
    "def area_calculator(length, width):\n",
    "    area_in_inches = length * width\n",
    "    area_in_feet = (length * width)/144\n",
    "    print(f\"The area in terms of inches is {area_in_inches} and the area in feet is {area_in_feet}.\")\n",
    "\n",
    "\n",
    "\n",
    "while True:\n",
    "    try:\n",
    "        length = float(input(\"Enter a value for length(in inches): \"))\n",
    "        width = float(input(\"Enter value for width(in inches): \"))\n",
    "        area_calculator(length, width)\n",
    "        break  \n",
    "    except ValueError:\n",
    "        print(\"Invalid inputs. Enter valid numbers for length and width.\")\n",
    "\n",
    "\n"
   ]
  },
  {
   "cell_type": "markdown",
   "metadata": {},
   "source": [
    "### Question 7 (3 points)"
   ]
  },
  {
   "cell_type": "markdown",
   "metadata": {},
   "source": [
    "Write a function that takes a word and a sentence as two string inputs and returns the number of times the word occurs in the sentence as the output.\n",
    "\n",
    "Run your function with **\"sea\"** and **“Sea shells are on the sea shore when the sea is calm.”** inputs to check if it works. Your function should work for any word and sentence. \n",
    "\n",
    "Note: at this time it does not have to differentiate a distinct word just if it appears in any form. Example: **“The sea gives me nausea.”** would return 2."
   ]
  },
  {
   "cell_type": "code",
   "execution_count": null,
   "metadata": {},
   "outputs": [
    {
     "name": "stdout",
     "output_type": "stream",
     "text": [
      "2\n"
     ]
    }
   ],
   "source": [
    "def count_word_in_sentence(word, sentence):\n",
    "    word = word.lower().strip()\n",
    "    sentence = sentence.lower().strip()\n",
    "\n",
    "    count = 0\n",
    "    index = 0\n",
    "    \n",
    "    while index < len(sentence):\n",
    "        index = sentence.find(word, index)\n",
    "        \n",
    "        if index != -1:\n",
    "            count += 1\n",
    "            index += len(word)\n",
    "        else:\n",
    "            break \n",
    "    \n",
    "    return count\n",
    "\n",
    "\n",
    "word = input(\"Enter a word: \")\n",
    "sentence = input(\"Enter a sentence: \")\n",
    "print(count_word_in_sentence(word, sentence))\n",
    "\n",
    "\n"
   ]
  },
  {
   "cell_type": "code",
   "execution_count": null,
   "metadata": {},
   "outputs": [],
   "source": []
  }
 ],
 "metadata": {
  "kernelspec": {
   "display_name": ".venv",
   "language": "python",
   "name": "python3"
  },
  "language_info": {
   "codemirror_mode": {
    "name": "ipython",
    "version": 3
   },
   "file_extension": ".py",
   "mimetype": "text/x-python",
   "name": "python",
   "nbconvert_exporter": "python",
   "pygments_lexer": "ipython3",
   "version": "3.11.9"
  }
 },
 "nbformat": 4,
 "nbformat_minor": 4
}
