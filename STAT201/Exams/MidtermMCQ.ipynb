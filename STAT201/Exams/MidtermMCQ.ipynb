{
 "cells": [
  {
   "cell_type": "code",
   "execution_count": null,
   "id": "6698f2bd",
   "metadata": {},
   "outputs": [],
   "source": [
    "list = [(1,2), (2,3)]\n",
    "list.append((4,5))\n",
    "print(list)\n",
    "\n",
    "\n",
    "colors = (\"y\", \"g\", \"r\", \"b\", \"p\", \"o\")\n",
    "print(colors[-4])\n",
    "\n",
    "num1 = int(input(\"Enter a number: \"))\n",
    "num2 = int(input(\"Enter a number: \"))\n",
    "print(\"{} random string {}\".format(num1 + num2, num2))"
   ]
  },
  {
   "cell_type": "code",
   "execution_count": null,
   "id": "5d6f1600",
   "metadata": {},
   "outputs": [],
   "source": [
    "x = [10, [\"apple\", 3, {\"a\": 13, \"b\": \"cat\"}], 4]\n"
   ]
  },
  {
   "cell_type": "code",
   "execution_count": null,
   "id": "1597e058",
   "metadata": {},
   "outputs": [],
   "source": [
    "for i in range(3):\n",
    "    for j in range(2):\n",
    "        print(\"*\", end = '')\n",
    "    print()\n",
    "_my_int = 9 \n",
    "print(_my_int)\n",
    "\n"
   ]
  },
  {
   "cell_type": "code",
   "execution_count": null,
   "id": "b6f3181a",
   "metadata": {},
   "outputs": [],
   "source": [
    "prices = [1,-1,1,1,-1,1]\n",
    "new_prices = [price if price > 0 else 0 for price in prices]\n",
    "print(new_prices)"
   ]
  },
  {
   "cell_type": "code",
   "execution_count": null,
   "id": "b2573306",
   "metadata": {},
   "outputs": [],
   "source": [
    "shopping_list = ['a', 'b', 'a', 'o', 'b']\n",
    "unique_items = set(shopping_list)\n",
    "print(unique_items)\n",
    "item_counts = {}\n",
    "for item in unique_items:\n",
    "    item_counts[item] = shopping_list.count(item)\n",
    "print(item_counts)"
   ]
  },
  {
   "cell_type": "code",
   "execution_count": null,
   "id": "c00ed0d8",
   "metadata": {},
   "outputs": [],
   "source": [
    "list10 = [8,9,10]\n",
    "list10[1] = 17"
   ]
  },
  {
   "cell_type": "code",
   "execution_count": null,
   "id": "f98c07fa",
   "metadata": {},
   "outputs": [],
   "source": [
    "list10.remove(list10[0])"
   ]
  },
  {
   "cell_type": "code",
   "execution_count": null,
   "id": "57b9b537",
   "metadata": {},
   "outputs": [],
   "source": [
    "list10"
   ]
  },
  {
   "cell_type": "code",
   "execution_count": null,
   "id": "4a0251db",
   "metadata": {},
   "outputs": [],
   "source": [
    "list10.sort()\n",
    "list10"
   ]
  },
  {
   "cell_type": "code",
   "execution_count": null,
   "id": "b9c16a4d",
   "metadata": {},
   "outputs": [],
   "source": [
    "for i in range(len(list10)):\n",
    "    list10.append(list10[i])"
   ]
  },
  {
   "cell_type": "code",
   "execution_count": null,
   "id": "9a7bcf30",
   "metadata": {},
   "outputs": [],
   "source": [
    "list10\n",
    "list10[3] = 25"
   ]
  },
  {
   "cell_type": "code",
   "execution_count": null,
   "id": "f2a7cba6",
   "metadata": {},
   "outputs": [],
   "source": [
    "list10\n",
    "list10.insert(3, 25)"
   ]
  },
  {
   "cell_type": "code",
   "execution_count": null,
   "id": "3fb7391c",
   "metadata": {},
   "outputs": [],
   "source": [
    "list10\n",
    "sexylist = list(range(1,20,2))\n",
    "sexylist\n",
    "list2 = [len(\"apple\"), len(\"banana\"), len(\"cherry\")]\n",
    "list2\n",
    "list3 = [x for x in range(1, 100) if x % 3 == 0 and x % 5 == 0]\n",
    "list3"
   ]
  }
 ],
 "metadata": {
  "language_info": {
   "name": "python"
  }
 },
 "nbformat": 4,
 "nbformat_minor": 5
}
